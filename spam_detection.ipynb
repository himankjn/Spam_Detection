{
 "cells": [
  {
   "cell_type": "markdown",
   "metadata": {},
   "source": [
    "---\n",
    "\n",
    "_You are currently looking at **version 1.1** of this notebook. To download notebooks and datafiles, as well as get help on Jupyter notebooks in the Coursera platform, visit the [Jupyter Notebook FAQ](https://www.coursera.org/learn/python-text-mining/resources/d9pwm) course resource._\n",
    "\n",
    "---"
   ]
  },
  {
   "cell_type": "markdown",
   "metadata": {},
   "source": [
    "# Spam Detection"
   ]
  },
  {
   "cell_type": "code",
   "execution_count": 1,
   "metadata": {},
   "outputs": [
    {
     "data": {
      "text/html": [
       "<div>\n",
       "<style scoped>\n",
       "    .dataframe tbody tr th:only-of-type {\n",
       "        vertical-align: middle;\n",
       "    }\n",
       "\n",
       "    .dataframe tbody tr th {\n",
       "        vertical-align: top;\n",
       "    }\n",
       "\n",
       "    .dataframe thead th {\n",
       "        text-align: right;\n",
       "    }\n",
       "</style>\n",
       "<table border=\"1\" class=\"dataframe\">\n",
       "  <thead>\n",
       "    <tr style=\"text-align: right;\">\n",
       "      <th></th>\n",
       "      <th>text</th>\n",
       "      <th>target</th>\n",
       "    </tr>\n",
       "  </thead>\n",
       "  <tbody>\n",
       "    <tr>\n",
       "      <th>0</th>\n",
       "      <td>Go until jurong point, crazy.. Available only ...</td>\n",
       "      <td>0</td>\n",
       "    </tr>\n",
       "    <tr>\n",
       "      <th>1</th>\n",
       "      <td>Ok lar... Joking wif u oni...</td>\n",
       "      <td>0</td>\n",
       "    </tr>\n",
       "    <tr>\n",
       "      <th>2</th>\n",
       "      <td>Free entry in 2 a wkly comp to win FA Cup fina...</td>\n",
       "      <td>1</td>\n",
       "    </tr>\n",
       "    <tr>\n",
       "      <th>3</th>\n",
       "      <td>U dun say so early hor... U c already then say...</td>\n",
       "      <td>0</td>\n",
       "    </tr>\n",
       "    <tr>\n",
       "      <th>4</th>\n",
       "      <td>Nah I don't think he goes to usf, he lives aro...</td>\n",
       "      <td>0</td>\n",
       "    </tr>\n",
       "    <tr>\n",
       "      <th>5</th>\n",
       "      <td>FreeMsg Hey there darling it's been 3 week's n...</td>\n",
       "      <td>1</td>\n",
       "    </tr>\n",
       "    <tr>\n",
       "      <th>6</th>\n",
       "      <td>Even my brother is not like to speak with me. ...</td>\n",
       "      <td>0</td>\n",
       "    </tr>\n",
       "    <tr>\n",
       "      <th>7</th>\n",
       "      <td>As per your request 'Melle Melle (Oru Minnamin...</td>\n",
       "      <td>0</td>\n",
       "    </tr>\n",
       "    <tr>\n",
       "      <th>8</th>\n",
       "      <td>WINNER!! As a valued network customer you have...</td>\n",
       "      <td>1</td>\n",
       "    </tr>\n",
       "    <tr>\n",
       "      <th>9</th>\n",
       "      <td>Had your mobile 11 months or more? U R entitle...</td>\n",
       "      <td>1</td>\n",
       "    </tr>\n",
       "  </tbody>\n",
       "</table>\n",
       "</div>"
      ],
      "text/plain": [
       "                                                text  target\n",
       "0  Go until jurong point, crazy.. Available only ...       0\n",
       "1                      Ok lar... Joking wif u oni...       0\n",
       "2  Free entry in 2 a wkly comp to win FA Cup fina...       1\n",
       "3  U dun say so early hor... U c already then say...       0\n",
       "4  Nah I don't think he goes to usf, he lives aro...       0\n",
       "5  FreeMsg Hey there darling it's been 3 week's n...       1\n",
       "6  Even my brother is not like to speak with me. ...       0\n",
       "7  As per your request 'Melle Melle (Oru Minnamin...       0\n",
       "8  WINNER!! As a valued network customer you have...       1\n",
       "9  Had your mobile 11 months or more? U R entitle...       1"
      ]
     },
     "execution_count": 1,
     "metadata": {},
     "output_type": "execute_result"
    }
   ],
   "source": [
    "import pandas as pd\n",
    "import numpy as np\n",
    "import matplotlib.pyplot as plt\n",
    "\n",
    "spam_data = pd.read_csv('spam.csv')\n",
    "\n",
    "spam_data['target'] = np.where(spam_data['target']=='spam',1,0)\n",
    "spam_data.head(10)"
   ]
  },
  {
   "cell_type": "markdown",
   "metadata": {},
   "source": [
    "## Train & Test Split:"
   ]
  },
  {
   "cell_type": "code",
   "execution_count": 2,
   "metadata": {},
   "outputs": [],
   "source": [
    "from sklearn.model_selection import train_test_split\n",
    "\n",
    "\n",
    "X_train, X_test, y_train, y_test = train_test_split(spam_data['text'], \n",
    "                                                    spam_data['target'], \n",
    "                                                    random_state=0)"
   ]
  },
  {
   "cell_type": "markdown",
   "metadata": {},
   "source": [
    "### Dummy Classifier"
   ]
  },
  {
   "cell_type": "code",
   "execution_count": 78,
   "metadata": {},
   "outputs": [
    {
     "data": {
      "text/plain": [
       "0.8585786073223259"
      ]
     },
     "execution_count": 78,
     "metadata": {},
     "output_type": "execute_result"
    }
   ],
   "source": [
    "from sklearn.dummy import DummyClassifier\n",
    "model=DummyClassifier(strategy='most_frequent')\n",
    "model.fit(X_train,y_train)\n",
    "model.score(X_test,y_test)"
   ]
  },
  {
   "cell_type": "markdown",
   "metadata": {},
   "source": [
    "Therefore, The dataset is imbalanced. Not Spam is majority class. \n",
    "\n",
    "Hence we need to perform atleast better than 86% to beat the dummy classifier"
   ]
  },
  {
   "cell_type": "markdown",
   "metadata": {},
   "source": [
    "## EDA"
   ]
  },
  {
   "cell_type": "markdown",
   "metadata": {},
   "source": [
    "### What percentage of the documentsare spam?\n",
    "\n"
   ]
  },
  {
   "cell_type": "code",
   "execution_count": 17,
   "metadata": {},
   "outputs": [
    {
     "data": {
      "text/plain": [
       "<BarContainer object of 2 artists>"
      ]
     },
     "execution_count": 17,
     "metadata": {},
     "output_type": "execute_result"
    },
    {
     "data": {
      "image/png": "[encoded data removed]",
      "text/plain": [
       "<Figure size 432x288 with 1 Axes>"
      ]
     },
     "metadata": {
      "needs_background": "light"
     },
     "output_type": "display_data"
    }
   ],
   "source": [
    "spam_perc=(spam_data['target']==1).sum()*100/spam_data.shape[0]\n",
    "non_spam_perc=100-spam_perc\n",
    "plt.barh(y=['spam','non-spam'],width=[spam_perc,non_spam_perc],color=['tab:red','tab:green'])"
   ]
  },
  {
   "cell_type": "markdown",
   "metadata": {},
   "source": [
    "### Longest token"
   ]
  },
  {
   "cell_type": "code",
   "execution_count": 18,
   "metadata": {},
   "outputs": [
    {
     "name": "stdout",
     "output_type": "stream",
     "text": [
      "Longest token:  com1win150ppmx3age16subscription\n"
     ]
    }
   ],
   "source": [
    "from sklearn.feature_extraction.text import CountVectorizer\n",
    "count=CountVectorizer()\n",
    "count.fit(X_train)\n",
    "maxlength=max(map(len,count.get_feature_names()))\n",
    "print(\"Longest token: \",[i for i in count.get_feature_names() if len(i)==maxlength][0])\n",
    "    \n"
   ]
  },
  {
   "cell_type": "markdown",
   "metadata": {},
   "source": [
    "### What 20 features have the smallest tf-idf and what 20 have the largest tf-idf?"
   ]
  },
  {
   "cell_type": "code",
   "execution_count": 19,
   "metadata": {},
   "outputs": [
    {
     "name": "stdout",
     "output_type": "stream",
     "text": [
      "smallest tfidf: \n",
      "moral              0.204078\n",
      "36504              0.215685\n",
      "sum1               0.216737\n",
      "100percent         0.217856\n",
      "genuine            0.217856\n",
      "showing            0.218333\n",
      "crack              0.219528\n",
      "havnt              0.219528\n",
      "honeybee           0.219528\n",
      "laughed            0.219528\n",
      "sweetest           0.219528\n",
      "norm150p           0.219653\n",
      "w45wq              0.219653\n",
      "minnaminunginte    0.220250\n",
      "nurungu            0.220250\n",
      "vettam             0.220250\n",
      "affection          0.224637\n",
      "bcums              0.224637\n",
      "kettoda            0.224637\n",
      "manda              0.224637\n",
      "dtype: float64\n",
      "largest tfidf: \n",
      "anytime    1.0\n",
      "babe       1.0\n",
      "bags       1.0\n",
      "done       1.0\n",
      "er         1.0\n",
      "for        1.0\n",
      "or         1.0\n",
      "out        1.0\n",
      "right      1.0\n",
      "sad        1.0\n",
      "say        1.0\n",
      "space      1.0\n",
      "thank      1.0\n",
      "thanx      1.0\n",
      "those      1.0\n",
      "too        1.0\n",
      "towards    1.0\n",
      "type       1.0\n",
      "unsold     1.0\n",
      "where      1.0\n",
      "dtype: float64\n"
     ]
    }
   ],
   "source": [
    "from sklearn.feature_extraction.text import TfidfVectorizer\n",
    "\n",
    "count=TfidfVectorizer(min_df=3)\n",
    "X_train_vectorized=count.fit_transform(X_train)\n",
    "features=np.array(count.get_feature_names())\n",
    "sorted_tfidf_index = X_train_vectorized.max(0).toarray()[0].argsort()\n",
    "smallest=features[sorted_tfidf_index[0:20]]\n",
    "largest=features[sorted_tfidf_index[-20:]]\n",
    "tfidf=X_train_vectorized.max(0).toarray()[0]\n",
    "tfidf.sort()\n",
    "smallest_tfidf=tfidf[0:20]\n",
    "largest_tfidf=tfidf[-20:]\n",
    "s=pd.Series(smallest_tfidf,index=smallest)\n",
    "s=s.iloc[np.lexsort([s.index,s.values])]\n",
    "l=pd.Series(largest_tfidf,index=largest)\n",
    "l=l.iloc[np.lexsort([l.index,l.values])]\n",
    "print(\"smallest tfidf: \")\n",
    "print(s)\n",
    "print(\"largest tfidf: \")\n",
    "print(l)"
   ]
  },
  {
   "cell_type": "markdown",
   "metadata": {},
   "source": [
    "### Average length of documents (number of characters) for not spam and spam documents\n"
   ]
  },
  {
   "cell_type": "code",
   "execution_count": 20,
   "metadata": {},
   "outputs": [
    {
     "name": "stdout",
     "output_type": "stream",
     "text": [
      "Average length of Non-Spam data: 71.02362694300518\n",
      "Average length of Spam data: 138.8661311914324\n"
     ]
    },
    {
     "data": {
      "text/plain": [
       "Text(0.5, 0, 'Avg. Number of charcters')"
      ]
     },
     "execution_count": 20,
     "metadata": {},
     "output_type": "execute_result"
    },
    {
     "data": {
      "image/png": "[encoded data removed]",
      "text/plain": [
       "<Figure size 432x288 with 1 Axes>"
      ]
     },
     "metadata": {
      "needs_background": "light"
     },
     "output_type": "display_data"
    }
   ],
   "source": [
    "notspam=spam_data[spam_data['target']==0]['text']\n",
    "spam=spam_data[spam_data['target']==1]['text']\n",
    "len_spam=np.mean([i for i in map(len,spam)])\n",
    "len_not_spam=np.mean([i for i in map(len,notspam)])\n",
    "print(\"Average length of Non-Spam data:\",len_not_spam)\n",
    "print(\"Average length of Spam data:\",len_spam)\n",
    "plt.barh(y=['spam','non-spam'],width=[len_spam,len_not_spam],color=['tab:red','tab:green'])\n",
    "plt.xlabel('Avg. Number of charcters')\n"
   ]
  },
  {
   "cell_type": "markdown",
   "metadata": {},
   "source": [
    "### Average number of digits per document for not spam and spam documents?\n",
    "\n"
   ]
  },
  {
   "cell_type": "code",
   "execution_count": 21,
   "metadata": {},
   "outputs": [
    {
     "name": "stdout",
     "output_type": "stream",
     "text": [
      "Average number of digits in non-spam Docs: 0.2992746113989637\n",
      "Average number of digits in spam Docs: 15.759036144578314\n"
     ]
    },
    {
     "data": {
      "text/plain": [
       "Text(0.5, 0, 'Avg. Number of digits')"
      ]
     },
     "execution_count": 21,
     "metadata": {},
     "output_type": "execute_result"
    },
    {
     "data": {
      "image/png": "[encoded data removed]",
      "text/plain": [
       "<Figure size 432x288 with 1 Axes>"
      ]
     },
     "metadata": {
      "needs_background": "light"
     },
     "output_type": "display_data"
    }
   ],
   "source": [
    "\n",
    "notspam=spam_data[spam_data['target']==0]['text']\n",
    "spam=spam_data[spam_data['target']==1]['text']\n",
    "char_spam=[i for i in map(list,spam)]\n",
    "char_not_spam=[i for i in map(list,notspam)]\n",
    "spam_mean_digits=np.mean([j for j in map(lambda x: sum([i for i in map(str.isdigit,x)]),char_spam)])\n",
    "notspam_mean_digits=np.mean([j for j in map(lambda x: sum([i for i in map(str.isdigit,x)]),char_not_spam)])\n",
    "    \n",
    "print(\"Average number of digits in non-spam Docs:\" ,notspam_mean_digits)\n",
    "print(\"Average number of digits in spam Docs:\" ,spam_mean_digits)\n",
    "\n",
    "plt.barh(y=['spam','non-spam'],width=[spam_mean_digits,notspam_mean_digits],color=['tab:red','tab:green'])\n",
    "plt.xlabel('Avg. Number of digits')"
   ]
  },
  {
   "cell_type": "markdown",
   "metadata": {},
   "source": [
    "### Average number of non-word characters (anything other than a letter, digit or underscore) per document for not spam and spam documents\n"
   ]
  },
  {
   "cell_type": "code",
   "execution_count": 22,
   "metadata": {},
   "outputs": [
    {
     "name": "stdout",
     "output_type": "stream",
     "text": [
      "Average number of non-word characters in non-spam docs:  17.29181347150259\n",
      "Average number of non-word characters in spam docs:  29.041499330655956\n"
     ]
    },
    {
     "data": {
      "text/plain": [
       "Text(0.5, 0, 'Avg. number of non-word characters')"
      ]
     },
     "execution_count": 22,
     "metadata": {},
     "output_type": "execute_result"
    },
    {
     "data": {
      "image/png": "[encoded data removed]",
      "text/plain": [
       "<Figure size 432x288 with 1 Axes>"
      ]
     },
     "metadata": {
      "needs_background": "light"
     },
     "output_type": "display_data"
    }
   ],
   "source": [
    "import re\n",
    "notspam=spam_data[spam_data['target']==0]['text']\n",
    "spam=spam_data[spam_data['target']==1]['text']\n",
    "char_spam=[i for i in map(list,spam)]\n",
    "char_not_spam=[i for i in map(list,notspam)]\n",
    "spam_nonwords=np.mean([j for j in map(lambda x: sum([i for i in map(lambda y: bool(re.search(r'\\W',y)),x)]),char_spam)])\n",
    "nonspam_nonwords=np.mean([j for j in map(lambda x: sum([i for i in map(lambda y:bool(re.search(r'\\W',y)),x)]),char_not_spam)])\n",
    "print(\"Average number of non-word characters in non-spam docs: \",nonspam_nonwords)\n",
    "print(\"Average number of non-word characters in spam docs: \",spam_nonwords)\n",
    "plt.barh(y=['spam','non-spam'],width=[spam_nonwords,nonspam_nonwords],color=['tab:red','tab:green'])\n",
    "plt.xlabel('Avg. number of non-word characters')"
   ]
  },
  {
   "cell_type": "markdown",
   "metadata": {},
   "source": [
    "### Multinomial NaiveBayes:\n",
    "Default Config, No addition features"
   ]
  },
  {
   "cell_type": "code",
   "execution_count": null,
   "metadata": {},
   "outputs": [],
   "source": [
    "from sklearn.naive_bayes import MultinomialNB\n",
    "from sklearn.metrics import roc_auc_score\n",
    "\n",
    "\n",
    "count=CountVectorizer()\n",
    "X_train_vectorized=count.fit_transform(X_train)\n",
    "model=MultinomialNB(alpha=0.1)\n",
    "model.fit(X_train_vectorized,y_train)\n",
    "predictions=model.predict(count.transform(X_test))\n",
    "score=roc_auc_score(y_test,predictions)\n",
    "    \n",
    "print(\"Number of Features: \",X_train_vectorized.shape[1])\n",
    "print(\"Roc Auc Score: \",score)"
   ]
  },
  {
   "cell_type": "markdown",
   "metadata": {},
   "source": [
    "### Question 11\n",
    "\n",
    "Count Vectorizer ignoring terms that have a document frequency strictly lower than **5** and using **character n-grams from n=2 to n=5.**\n",
    "\n",
    "To tell Count Vectorizer to use character n-grams pass in `analyzer='char_wb'` which creates character n-grams only from text inside word boundaries. This should make the model more robust to spelling mistakes.\n",
    "\n",
    "Using this document-term matrix and the following additional features:\n",
    "* the length of document (number of characters)\n",
    "* number of digits per document\n",
    "* **number of non-word characters (anything other than a letter, digit or underscore.)**\n",
    "\n",
    "Logistic Regression model with regularization C=100. Then compute the area under the curve (AUC) score using the transformed test data.\n",
    "\n",
    "**find the 10 smallest and 10 largest coefficients from the model** and return them along with the AUC score in a tuple.\n",
    "\n",
    "The list of 10 smallest coefficients should be sorted smallest first, the list of 10 largest coefficients should be sorted largest first.\n"
   ]
  },
  {
   "cell_type": "markdown",
   "metadata": {},
   "source": [
    "# Feature Engineering:"
   ]
  },
  {
   "cell_type": "code",
   "execution_count": 30,
   "metadata": {},
   "outputs": [],
   "source": [
    "def add_feature(X, feature_to_add):\n",
    "    \"\"\"\n",
    "    Returns sparse feature matrix with added feature.\n",
    "    feature_to_add can also be a list of features.\n",
    "    \"\"\"\n",
    "    from scipy.sparse import csr_matrix, hstack\n",
    "    return hstack([X, csr_matrix(feature_to_add).T], 'csr')"
   ]
  },
  {
   "cell_type": "code",
   "execution_count": 59,
   "metadata": {},
   "outputs": [],
   "source": [
    "from sklearn.linear_model import LogisticRegression\n",
    "from sklearn.metrics import roc_auc_score\n",
    "temp = spam_data.copy()\n",
    "temp['length_of_doc'] = temp['text'].str.len()\n",
    "temp['digit_count'] = spam_data['text'].apply(lambda row: len(re.findall(r'\\d', row)))\n",
    "temp['non_word_char_count'] = temp['text'].apply(lambda row: len(re.findall(r'\\W', row)))\n",
    "X_train, X_test, y_train, y_test = train_test_split(temp.drop('target', axis=1), temp['target'], random_state=0)\n",
    "\n",
    "vect = CountVectorizer(min_df=5, ngram_range=(2, 5), analyzer='char_wb').fit(X_train['text'])\n",
    "\n",
    "X_train_vectorized = vect.transform(X_train['text'])\n",
    "X_test_vectorized = vect.transform(X_test['text'])\n",
    "X_train_vectorized = add_feature(X_train_vectorized, X_train['length_of_doc'])\n",
    "X_train_vectorized = add_feature(X_train_vectorized, X_train['digit_count'])\n",
    "X_train_vectorized = add_feature(X_train_vectorized, X_train['non_word_char_count'])\n",
    "X_test_vectorized = add_feature(X_test_vectorized, X_test['length_of_doc'])\n",
    "X_test_vectorized = add_feature(X_test_vectorized, X_test['digit_count'])\n",
    "X_test_vectorized = add_feature(X_test_vectorized, X_test['non_word_char_count'])\n",
    "\n"
   ]
  },
  {
   "cell_type": "markdown",
   "metadata": {},
   "source": [
    "## Logistic Regression"
   ]
  },
  {
   "cell_type": "code",
   "execution_count": 62,
   "metadata": {},
   "outputs": [
    {
     "data": {
      "text/plain": [
       "(0.9813973821367333,\n",
       " ['..', '. ', ' i', ' go', '? ', ' y', 'pe', 'ok', 'go', 'h '],\n",
       " ['digit_count', 'ww', 'co', 'ne', 'ia', 'xt', 'ar', ' ch', 'mob', 'uk'])"
      ]
     },
     "execution_count": 62,
     "metadata": {},
     "output_type": "execute_result"
    }
   ],
   "source": [
    "from sklearn.linear_model import LogisticRegression\n",
    "from sklearn.metrics import roc_auc_score\n",
    "\n",
    "import warnings \n",
    "warnings.filterwarnings(\"ignore\")\n",
    "\n",
    "clf = LogisticRegression(C=100).fit(X_train_vectorized, y_train)\n",
    "y_score = clf.predict(X_test_vectorized)\n",
    "score = roc_auc_score(y_test, y_score)\n",
    "    \n",
    "feature_names = np.append(np.array(vect.get_feature_names()), ['length_of_doc', 'digit_count', 'non_word_char_count'])\n",
    "sorted_coef_index = clf.coef_[0].argsort()\n",
    "largest_coefs = feature_names[sorted_coef_index[:-11:-1]]\n",
    "smallest_coefs = feature_names[sorted_coef_index[:10]]\n",
    "    \n",
    "score, list(smallest_coefs), list(largest_coefs)"
   ]
  },
  {
   "cell_type": "code",
   "execution_count": 63,
   "metadata": {},
   "outputs": [
    {
     "data": {
      "text/plain": [
       "0.9767393002054223"
      ]
     },
     "execution_count": 63,
     "metadata": {},
     "output_type": "execute_result"
    }
   ],
   "source": [
    "from sklearn.svm import SVC\n",
    "model=SVC(C=100000)\n",
    "model.fit(X_train_vectorized,y_train)\n",
    "predictions=model.predict(X_test_vectorized)\n",
    "auc=roc_auc_score(y_test,predictions)\n",
    "auc"
   ]
  },
  {
   "cell_type": "code",
   "execution_count": 64,
   "metadata": {},
   "outputs": [
    {
     "name": "stdout",
     "output_type": "stream",
     "text": [
      "Number of Features:  16317\n",
      "Roc Auc Score:  0.9818451521993787\n"
     ]
    }
   ],
   "source": [
    "from sklearn.naive_bayes import MultinomialNB\n",
    "from sklearn.metrics import roc_auc_score\n",
    "\n",
    "\n",
    "model=MultinomialNB(alpha=0.1)\n",
    "model.fit(X_train_vectorized,y_train)\n",
    "predictions=model.predict(X_test_vectorized)\n",
    "auc=roc_auc_score(y_test,predictions)\n",
    "auc\n",
    "print(\"Number of Features: \",X_train_vectorized.shape[1])\n",
    "print(\"Roc Auc Score: \",auc)"
   ]
  },
  {
   "cell_type": "markdown",
   "metadata": {},
   "source": [
    "### Using Multinomial Naive Bayes an accuracy of 98.18% is acheived"
   ]
  }
 ],
 "metadata": {
  "coursera": {
   "course_slug": "python-text-mining",
   "graded_item_id": "Pn19K",
   "launcher_item_id": "y1juS",
   "part_id": "ctlgo"
  },
  "kernelspec": {
   "display_name": "Python 3",
   "language": "python",
   "name": "python3"
  },
  "language_info": {
   "codemirror_mode": {
    "name": "ipython",
    "version": 3
   },
   "file_extension": ".py",
   "mimetype": "text/x-python",
   "name": "python",
   "nbconvert_exporter": "python",
   "pygments_lexer": "ipython3",
   "version": "3.7.3"
  }
 },
 "nbformat": 4,
 "nbformat_minor": 2
}
